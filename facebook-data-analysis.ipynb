{
 "cells": [
  {
   "cell_type": "code",
   "execution_count": 1,
   "id": "dbe0ea51",
   "metadata": {
    "_cell_guid": "b1076dfc-b9ad-4769-8c92-a6c4dae69d19",
    "_uuid": "8f2839f25d086af736a60e9eeb907d3b93b6e0e5",
    "execution": {
     "iopub.execute_input": "2023-11-05T18:32:15.759644Z",
     "iopub.status.busy": "2023-11-05T18:32:15.759065Z",
     "iopub.status.idle": "2023-11-05T18:32:17.702174Z",
     "shell.execute_reply": "2023-11-05T18:32:17.700549Z"
    },
    "papermill": {
     "duration": 1.956219,
     "end_time": "2023-11-05T18:32:17.705116",
     "exception": false,
     "start_time": "2023-11-05T18:32:15.748897",
     "status": "completed"
    },
    "tags": []
   },
   "outputs": [],
   "source": [
    "# import the necessary libraries\n",
    "import numpy as np\n",
    "import pandas as pd\n",
    "import matplotlib.pyplot as plt\n",
    "import seaborn as sns"
   ]
  },
  {
   "cell_type": "code",
   "execution_count": 2,
   "id": "ce69e2d9",
   "metadata": {
    "execution": {
     "iopub.execute_input": "2023-11-05T18:32:17.721425Z",
     "iopub.status.busy": "2023-11-05T18:32:17.720729Z",
     "iopub.status.idle": "2023-11-05T18:32:17.944327Z",
     "shell.execute_reply": "2023-11-05T18:32:17.942872Z"
    },
    "papermill": {
     "duration": 0.235,
     "end_time": "2023-11-05T18:32:17.947331",
     "exception": false,
     "start_time": "2023-11-05T18:32:17.712331",
     "status": "completed"
    },
    "tags": []
   },
   "outputs": [
    {
     "data": {
      "text/html": [
       "<div>\n",
       "<style scoped>\n",
       "    .dataframe tbody tr th:only-of-type {\n",
       "        vertical-align: middle;\n",
       "    }\n",
       "\n",
       "    .dataframe tbody tr th {\n",
       "        vertical-align: top;\n",
       "    }\n",
       "\n",
       "    .dataframe thead th {\n",
       "        text-align: right;\n",
       "    }\n",
       "</style>\n",
       "<table border=\"1\" class=\"dataframe\">\n",
       "  <thead>\n",
       "    <tr style=\"text-align: right;\">\n",
       "      <th></th>\n",
       "      <th>userid</th>\n",
       "      <th>age</th>\n",
       "      <th>dob_day</th>\n",
       "      <th>dob_year</th>\n",
       "      <th>dob_month</th>\n",
       "      <th>gender</th>\n",
       "      <th>tenure</th>\n",
       "      <th>friend_count</th>\n",
       "      <th>friendships_initiated</th>\n",
       "      <th>likes</th>\n",
       "      <th>likes_received</th>\n",
       "      <th>mobile_likes</th>\n",
       "      <th>mobile_likes_received</th>\n",
       "      <th>www_likes</th>\n",
       "      <th>www_likes_received</th>\n",
       "    </tr>\n",
       "  </thead>\n",
       "  <tbody>\n",
       "    <tr>\n",
       "      <th>0</th>\n",
       "      <td>2094382</td>\n",
       "      <td>14</td>\n",
       "      <td>19</td>\n",
       "      <td>1999</td>\n",
       "      <td>11</td>\n",
       "      <td>male</td>\n",
       "      <td>266.0</td>\n",
       "      <td>0</td>\n",
       "      <td>0</td>\n",
       "      <td>0</td>\n",
       "      <td>0</td>\n",
       "      <td>0</td>\n",
       "      <td>0</td>\n",
       "      <td>0</td>\n",
       "      <td>0</td>\n",
       "    </tr>\n",
       "    <tr>\n",
       "      <th>1</th>\n",
       "      <td>1192601</td>\n",
       "      <td>14</td>\n",
       "      <td>2</td>\n",
       "      <td>1999</td>\n",
       "      <td>11</td>\n",
       "      <td>female</td>\n",
       "      <td>6.0</td>\n",
       "      <td>0</td>\n",
       "      <td>0</td>\n",
       "      <td>0</td>\n",
       "      <td>0</td>\n",
       "      <td>0</td>\n",
       "      <td>0</td>\n",
       "      <td>0</td>\n",
       "      <td>0</td>\n",
       "    </tr>\n",
       "    <tr>\n",
       "      <th>2</th>\n",
       "      <td>2083884</td>\n",
       "      <td>14</td>\n",
       "      <td>16</td>\n",
       "      <td>1999</td>\n",
       "      <td>11</td>\n",
       "      <td>male</td>\n",
       "      <td>13.0</td>\n",
       "      <td>0</td>\n",
       "      <td>0</td>\n",
       "      <td>0</td>\n",
       "      <td>0</td>\n",
       "      <td>0</td>\n",
       "      <td>0</td>\n",
       "      <td>0</td>\n",
       "      <td>0</td>\n",
       "    </tr>\n",
       "    <tr>\n",
       "      <th>3</th>\n",
       "      <td>1203168</td>\n",
       "      <td>14</td>\n",
       "      <td>25</td>\n",
       "      <td>1999</td>\n",
       "      <td>12</td>\n",
       "      <td>female</td>\n",
       "      <td>93.0</td>\n",
       "      <td>0</td>\n",
       "      <td>0</td>\n",
       "      <td>0</td>\n",
       "      <td>0</td>\n",
       "      <td>0</td>\n",
       "      <td>0</td>\n",
       "      <td>0</td>\n",
       "      <td>0</td>\n",
       "    </tr>\n",
       "    <tr>\n",
       "      <th>4</th>\n",
       "      <td>1733186</td>\n",
       "      <td>14</td>\n",
       "      <td>4</td>\n",
       "      <td>1999</td>\n",
       "      <td>12</td>\n",
       "      <td>male</td>\n",
       "      <td>82.0</td>\n",
       "      <td>0</td>\n",
       "      <td>0</td>\n",
       "      <td>0</td>\n",
       "      <td>0</td>\n",
       "      <td>0</td>\n",
       "      <td>0</td>\n",
       "      <td>0</td>\n",
       "      <td>0</td>\n",
       "    </tr>\n",
       "  </tbody>\n",
       "</table>\n",
       "</div>"
      ],
      "text/plain": [
       "    userid  age  dob_day  dob_year  dob_month  gender  tenure  friend_count  \\\n",
       "0  2094382   14       19      1999         11    male   266.0             0   \n",
       "1  1192601   14        2      1999         11  female     6.0             0   \n",
       "2  2083884   14       16      1999         11    male    13.0             0   \n",
       "3  1203168   14       25      1999         12  female    93.0             0   \n",
       "4  1733186   14        4      1999         12    male    82.0             0   \n",
       "\n",
       "   friendships_initiated  likes  likes_received  mobile_likes  \\\n",
       "0                      0      0               0             0   \n",
       "1                      0      0               0             0   \n",
       "2                      0      0               0             0   \n",
       "3                      0      0               0             0   \n",
       "4                      0      0               0             0   \n",
       "\n",
       "   mobile_likes_received  www_likes  www_likes_received  \n",
       "0                      0          0                   0  \n",
       "1                      0          0                   0  \n",
       "2                      0          0                   0  \n",
       "3                      0          0                   0  \n",
       "4                      0          0                   0  "
      ]
     },
     "execution_count": 2,
     "metadata": {},
     "output_type": "execute_result"
    }
   ],
   "source": [
    "# load the dataset\n",
    "facebook = pd.read_csv('/kaggle/input/facebook-data/pseudo_facebook.csv')\n",
    "facebook.head()"
   ]
  },
  {
   "cell_type": "code",
   "execution_count": 3,
   "id": "f34300a3",
   "metadata": {
    "execution": {
     "iopub.execute_input": "2023-11-05T18:32:17.965076Z",
     "iopub.status.busy": "2023-11-05T18:32:17.963404Z",
     "iopub.status.idle": "2023-11-05T18:32:17.983281Z",
     "shell.execute_reply": "2023-11-05T18:32:17.981598Z"
    },
    "papermill": {
     "duration": 0.032613,
     "end_time": "2023-11-05T18:32:17.986988",
     "exception": false,
     "start_time": "2023-11-05T18:32:17.954375",
     "status": "completed"
    },
    "tags": []
   },
   "outputs": [
    {
     "data": {
      "text/html": [
       "<div>\n",
       "<style scoped>\n",
       "    .dataframe tbody tr th:only-of-type {\n",
       "        vertical-align: middle;\n",
       "    }\n",
       "\n",
       "    .dataframe tbody tr th {\n",
       "        vertical-align: top;\n",
       "    }\n",
       "\n",
       "    .dataframe thead th {\n",
       "        text-align: right;\n",
       "    }\n",
       "</style>\n",
       "<table border=\"1\" class=\"dataframe\">\n",
       "  <thead>\n",
       "    <tr style=\"text-align: right;\">\n",
       "      <th></th>\n",
       "      <th>userid</th>\n",
       "      <th>age</th>\n",
       "      <th>dob_day</th>\n",
       "      <th>dob_year</th>\n",
       "      <th>dob_month</th>\n",
       "      <th>gender</th>\n",
       "      <th>tenure</th>\n",
       "      <th>friend_count</th>\n",
       "      <th>friendships_initiated</th>\n",
       "      <th>likes</th>\n",
       "      <th>likes_received</th>\n",
       "      <th>mobile_likes</th>\n",
       "      <th>mobile_likes_received</th>\n",
       "      <th>www_likes</th>\n",
       "      <th>www_likes_received</th>\n",
       "    </tr>\n",
       "  </thead>\n",
       "  <tbody>\n",
       "    <tr>\n",
       "      <th>98998</th>\n",
       "      <td>1268299</td>\n",
       "      <td>68</td>\n",
       "      <td>4</td>\n",
       "      <td>1945</td>\n",
       "      <td>4</td>\n",
       "      <td>female</td>\n",
       "      <td>541.0</td>\n",
       "      <td>2118</td>\n",
       "      <td>341</td>\n",
       "      <td>3996</td>\n",
       "      <td>18089</td>\n",
       "      <td>3505</td>\n",
       "      <td>11887</td>\n",
       "      <td>491</td>\n",
       "      <td>6202</td>\n",
       "    </tr>\n",
       "    <tr>\n",
       "      <th>98999</th>\n",
       "      <td>1256153</td>\n",
       "      <td>18</td>\n",
       "      <td>12</td>\n",
       "      <td>1995</td>\n",
       "      <td>3</td>\n",
       "      <td>female</td>\n",
       "      <td>21.0</td>\n",
       "      <td>1968</td>\n",
       "      <td>1720</td>\n",
       "      <td>4401</td>\n",
       "      <td>13412</td>\n",
       "      <td>4399</td>\n",
       "      <td>10592</td>\n",
       "      <td>2</td>\n",
       "      <td>2820</td>\n",
       "    </tr>\n",
       "    <tr>\n",
       "      <th>99000</th>\n",
       "      <td>1195943</td>\n",
       "      <td>15</td>\n",
       "      <td>10</td>\n",
       "      <td>1998</td>\n",
       "      <td>5</td>\n",
       "      <td>female</td>\n",
       "      <td>111.0</td>\n",
       "      <td>2002</td>\n",
       "      <td>1524</td>\n",
       "      <td>11959</td>\n",
       "      <td>12554</td>\n",
       "      <td>11959</td>\n",
       "      <td>11462</td>\n",
       "      <td>0</td>\n",
       "      <td>1092</td>\n",
       "    </tr>\n",
       "    <tr>\n",
       "      <th>99001</th>\n",
       "      <td>1468023</td>\n",
       "      <td>23</td>\n",
       "      <td>11</td>\n",
       "      <td>1990</td>\n",
       "      <td>4</td>\n",
       "      <td>female</td>\n",
       "      <td>416.0</td>\n",
       "      <td>2560</td>\n",
       "      <td>185</td>\n",
       "      <td>4506</td>\n",
       "      <td>6516</td>\n",
       "      <td>4506</td>\n",
       "      <td>5760</td>\n",
       "      <td>0</td>\n",
       "      <td>756</td>\n",
       "    </tr>\n",
       "    <tr>\n",
       "      <th>99002</th>\n",
       "      <td>1397896</td>\n",
       "      <td>39</td>\n",
       "      <td>15</td>\n",
       "      <td>1974</td>\n",
       "      <td>5</td>\n",
       "      <td>female</td>\n",
       "      <td>397.0</td>\n",
       "      <td>2049</td>\n",
       "      <td>768</td>\n",
       "      <td>9410</td>\n",
       "      <td>12443</td>\n",
       "      <td>9410</td>\n",
       "      <td>9530</td>\n",
       "      <td>0</td>\n",
       "      <td>2913</td>\n",
       "    </tr>\n",
       "  </tbody>\n",
       "</table>\n",
       "</div>"
      ],
      "text/plain": [
       "        userid  age  dob_day  dob_year  dob_month  gender  tenure  \\\n",
       "98998  1268299   68        4      1945          4  female   541.0   \n",
       "98999  1256153   18       12      1995          3  female    21.0   \n",
       "99000  1195943   15       10      1998          5  female   111.0   \n",
       "99001  1468023   23       11      1990          4  female   416.0   \n",
       "99002  1397896   39       15      1974          5  female   397.0   \n",
       "\n",
       "       friend_count  friendships_initiated  likes  likes_received  \\\n",
       "98998          2118                    341   3996           18089   \n",
       "98999          1968                   1720   4401           13412   \n",
       "99000          2002                   1524  11959           12554   \n",
       "99001          2560                    185   4506            6516   \n",
       "99002          2049                    768   9410           12443   \n",
       "\n",
       "       mobile_likes  mobile_likes_received  www_likes  www_likes_received  \n",
       "98998          3505                  11887        491                6202  \n",
       "98999          4399                  10592          2                2820  \n",
       "99000         11959                  11462          0                1092  \n",
       "99001          4506                   5760          0                 756  \n",
       "99002          9410                   9530          0                2913  "
      ]
     },
     "execution_count": 3,
     "metadata": {},
     "output_type": "execute_result"
    }
   ],
   "source": [
    "facebook.tail()"
   ]
  },
  {
   "cell_type": "code",
   "execution_count": 4,
   "id": "f99917b5",
   "metadata": {
    "execution": {
     "iopub.execute_input": "2023-11-05T18:32:18.004114Z",
     "iopub.status.busy": "2023-11-05T18:32:18.003537Z",
     "iopub.status.idle": "2023-11-05T18:32:18.044428Z",
     "shell.execute_reply": "2023-11-05T18:32:18.043313Z"
    },
    "papermill": {
     "duration": 0.052702,
     "end_time": "2023-11-05T18:32:18.046969",
     "exception": false,
     "start_time": "2023-11-05T18:32:17.994267",
     "status": "completed"
    },
    "tags": []
   },
   "outputs": [
    {
     "name": "stdout",
     "output_type": "stream",
     "text": [
      "<class 'pandas.core.frame.DataFrame'>\n",
      "RangeIndex: 99003 entries, 0 to 99002\n",
      "Data columns (total 15 columns):\n",
      " #   Column                 Non-Null Count  Dtype  \n",
      "---  ------                 --------------  -----  \n",
      " 0   userid                 99003 non-null  int64  \n",
      " 1   age                    99003 non-null  int64  \n",
      " 2   dob_day                99003 non-null  int64  \n",
      " 3   dob_year               99003 non-null  int64  \n",
      " 4   dob_month              99003 non-null  int64  \n",
      " 5   gender                 98828 non-null  object \n",
      " 6   tenure                 99001 non-null  float64\n",
      " 7   friend_count           99003 non-null  int64  \n",
      " 8   friendships_initiated  99003 non-null  int64  \n",
      " 9   likes                  99003 non-null  int64  \n",
      " 10  likes_received         99003 non-null  int64  \n",
      " 11  mobile_likes           99003 non-null  int64  \n",
      " 12  mobile_likes_received  99003 non-null  int64  \n",
      " 13  www_likes              99003 non-null  int64  \n",
      " 14  www_likes_received     99003 non-null  int64  \n",
      "dtypes: float64(1), int64(13), object(1)\n",
      "memory usage: 11.3+ MB\n"
     ]
    }
   ],
   "source": [
    "facebook.info()"
   ]
  },
  {
   "cell_type": "code",
   "execution_count": 5,
   "id": "89d4a2c4",
   "metadata": {
    "execution": {
     "iopub.execute_input": "2023-11-05T18:32:18.064287Z",
     "iopub.status.busy": "2023-11-05T18:32:18.063788Z",
     "iopub.status.idle": "2023-11-05T18:32:18.078357Z",
     "shell.execute_reply": "2023-11-05T18:32:18.077087Z"
    },
    "papermill": {
     "duration": 0.027497,
     "end_time": "2023-11-05T18:32:18.081891",
     "exception": false,
     "start_time": "2023-11-05T18:32:18.054394",
     "status": "completed"
    },
    "tags": []
   },
   "outputs": [
    {
     "data": {
      "text/plain": [
       "userid                     0\n",
       "age                        0\n",
       "dob_day                    0\n",
       "dob_year                   0\n",
       "dob_month                  0\n",
       "gender                   175\n",
       "tenure                     2\n",
       "friend_count               0\n",
       "friendships_initiated      0\n",
       "likes                      0\n",
       "likes_received             0\n",
       "mobile_likes               0\n",
       "mobile_likes_received      0\n",
       "www_likes                  0\n",
       "www_likes_received         0\n",
       "dtype: int64"
      ]
     },
     "execution_count": 5,
     "metadata": {},
     "output_type": "execute_result"
    }
   ],
   "source": [
    "# check nulls\n",
    "facebook.isnull().sum()"
   ]
  },
  {
   "cell_type": "code",
   "execution_count": 6,
   "id": "3141481d",
   "metadata": {
    "execution": {
     "iopub.execute_input": "2023-11-05T18:32:18.098784Z",
     "iopub.status.busy": "2023-11-05T18:32:18.098293Z",
     "iopub.status.idle": "2023-11-05T18:32:18.123279Z",
     "shell.execute_reply": "2023-11-05T18:32:18.121826Z"
    },
    "papermill": {
     "duration": 0.037769,
     "end_time": "2023-11-05T18:32:18.127001",
     "exception": false,
     "start_time": "2023-11-05T18:32:18.089232",
     "status": "completed"
    },
    "tags": []
   },
   "outputs": [
    {
     "data": {
      "text/plain": [
       "userid                   0\n",
       "age                      0\n",
       "dob_day                  0\n",
       "dob_year                 0\n",
       "dob_month                0\n",
       "gender                   0\n",
       "tenure                   0\n",
       "friend_count             0\n",
       "friendships_initiated    0\n",
       "likes                    0\n",
       "likes_received           0\n",
       "mobile_likes             0\n",
       "mobile_likes_received    0\n",
       "www_likes                0\n",
       "www_likes_received       0\n",
       "dtype: int64"
      ]
     },
     "execution_count": 6,
     "metadata": {},
     "output_type": "execute_result"
    }
   ],
   "source": [
    "# drop nulls\n",
    "facebook.dropna(inplace=True)\n",
    "facebook.isnull().sum()"
   ]
  },
  {
   "cell_type": "code",
   "execution_count": 7,
   "id": "0d26d717",
   "metadata": {
    "execution": {
     "iopub.execute_input": "2023-11-05T18:32:18.144444Z",
     "iopub.status.busy": "2023-11-05T18:32:18.144010Z",
     "iopub.status.idle": "2023-11-05T18:32:18.200370Z",
     "shell.execute_reply": "2023-11-05T18:32:18.199100Z"
    },
    "papermill": {
     "duration": 0.067886,
     "end_time": "2023-11-05T18:32:18.202621",
     "exception": false,
     "start_time": "2023-11-05T18:32:18.134735",
     "status": "completed"
    },
    "tags": []
   },
   "outputs": [
    {
     "data": {
      "text/plain": [
       "0"
      ]
     },
     "execution_count": 7,
     "metadata": {},
     "output_type": "execute_result"
    }
   ],
   "source": [
    "# check duplicates\n",
    "facebook.duplicated().sum()"
   ]
  },
  {
   "cell_type": "code",
   "execution_count": 8,
   "id": "f79c7800",
   "metadata": {
    "execution": {
     "iopub.execute_input": "2023-11-05T18:32:18.219308Z",
     "iopub.status.busy": "2023-11-05T18:32:18.218889Z",
     "iopub.status.idle": "2023-11-05T18:32:18.241746Z",
     "shell.execute_reply": "2023-11-05T18:32:18.240545Z"
    },
    "papermill": {
     "duration": 0.033373,
     "end_time": "2023-11-05T18:32:18.243762",
     "exception": false,
     "start_time": "2023-11-05T18:32:18.210389",
     "status": "completed"
    },
    "tags": []
   },
   "outputs": [
    {
     "data": {
      "text/html": [
       "<div>\n",
       "<style scoped>\n",
       "    .dataframe tbody tr th:only-of-type {\n",
       "        vertical-align: middle;\n",
       "    }\n",
       "\n",
       "    .dataframe tbody tr th {\n",
       "        vertical-align: top;\n",
       "    }\n",
       "\n",
       "    .dataframe thead th {\n",
       "        text-align: right;\n",
       "    }\n",
       "</style>\n",
       "<table border=\"1\" class=\"dataframe\">\n",
       "  <thead>\n",
       "    <tr style=\"text-align: right;\">\n",
       "      <th></th>\n",
       "      <th>userid</th>\n",
       "      <th>age</th>\n",
       "      <th>dob_day</th>\n",
       "      <th>dob_year</th>\n",
       "      <th>dob_month</th>\n",
       "      <th>gender</th>\n",
       "      <th>tenure</th>\n",
       "      <th>friend_count</th>\n",
       "      <th>friendships_initiated</th>\n",
       "      <th>likes</th>\n",
       "      <th>likes_received</th>\n",
       "      <th>mobile_likes</th>\n",
       "      <th>mobile_likes_received</th>\n",
       "      <th>www_likes</th>\n",
       "      <th>www_likes_received</th>\n",
       "      <th>age_group</th>\n",
       "    </tr>\n",
       "  </thead>\n",
       "  <tbody>\n",
       "    <tr>\n",
       "      <th>0</th>\n",
       "      <td>2094382</td>\n",
       "      <td>14</td>\n",
       "      <td>19</td>\n",
       "      <td>1999</td>\n",
       "      <td>11</td>\n",
       "      <td>male</td>\n",
       "      <td>266.0</td>\n",
       "      <td>0</td>\n",
       "      <td>0</td>\n",
       "      <td>0</td>\n",
       "      <td>0</td>\n",
       "      <td>0</td>\n",
       "      <td>0</td>\n",
       "      <td>0</td>\n",
       "      <td>0</td>\n",
       "      <td>10-20</td>\n",
       "    </tr>\n",
       "    <tr>\n",
       "      <th>1</th>\n",
       "      <td>1192601</td>\n",
       "      <td>14</td>\n",
       "      <td>2</td>\n",
       "      <td>1999</td>\n",
       "      <td>11</td>\n",
       "      <td>female</td>\n",
       "      <td>6.0</td>\n",
       "      <td>0</td>\n",
       "      <td>0</td>\n",
       "      <td>0</td>\n",
       "      <td>0</td>\n",
       "      <td>0</td>\n",
       "      <td>0</td>\n",
       "      <td>0</td>\n",
       "      <td>0</td>\n",
       "      <td>10-20</td>\n",
       "    </tr>\n",
       "    <tr>\n",
       "      <th>2</th>\n",
       "      <td>2083884</td>\n",
       "      <td>14</td>\n",
       "      <td>16</td>\n",
       "      <td>1999</td>\n",
       "      <td>11</td>\n",
       "      <td>male</td>\n",
       "      <td>13.0</td>\n",
       "      <td>0</td>\n",
       "      <td>0</td>\n",
       "      <td>0</td>\n",
       "      <td>0</td>\n",
       "      <td>0</td>\n",
       "      <td>0</td>\n",
       "      <td>0</td>\n",
       "      <td>0</td>\n",
       "      <td>10-20</td>\n",
       "    </tr>\n",
       "    <tr>\n",
       "      <th>3</th>\n",
       "      <td>1203168</td>\n",
       "      <td>14</td>\n",
       "      <td>25</td>\n",
       "      <td>1999</td>\n",
       "      <td>12</td>\n",
       "      <td>female</td>\n",
       "      <td>93.0</td>\n",
       "      <td>0</td>\n",
       "      <td>0</td>\n",
       "      <td>0</td>\n",
       "      <td>0</td>\n",
       "      <td>0</td>\n",
       "      <td>0</td>\n",
       "      <td>0</td>\n",
       "      <td>0</td>\n",
       "      <td>10-20</td>\n",
       "    </tr>\n",
       "    <tr>\n",
       "      <th>4</th>\n",
       "      <td>1733186</td>\n",
       "      <td>14</td>\n",
       "      <td>4</td>\n",
       "      <td>1999</td>\n",
       "      <td>12</td>\n",
       "      <td>male</td>\n",
       "      <td>82.0</td>\n",
       "      <td>0</td>\n",
       "      <td>0</td>\n",
       "      <td>0</td>\n",
       "      <td>0</td>\n",
       "      <td>0</td>\n",
       "      <td>0</td>\n",
       "      <td>0</td>\n",
       "      <td>0</td>\n",
       "      <td>10-20</td>\n",
       "    </tr>\n",
       "  </tbody>\n",
       "</table>\n",
       "</div>"
      ],
      "text/plain": [
       "    userid  age  dob_day  dob_year  dob_month  gender  tenure  friend_count  \\\n",
       "0  2094382   14       19      1999         11    male   266.0             0   \n",
       "1  1192601   14        2      1999         11  female     6.0             0   \n",
       "2  2083884   14       16      1999         11    male    13.0             0   \n",
       "3  1203168   14       25      1999         12  female    93.0             0   \n",
       "4  1733186   14        4      1999         12    male    82.0             0   \n",
       "\n",
       "   friendships_initiated  likes  likes_received  mobile_likes  \\\n",
       "0                      0      0               0             0   \n",
       "1                      0      0               0             0   \n",
       "2                      0      0               0             0   \n",
       "3                      0      0               0             0   \n",
       "4                      0      0               0             0   \n",
       "\n",
       "   mobile_likes_received  www_likes  www_likes_received age_group  \n",
       "0                      0          0                   0     10-20  \n",
       "1                      0          0                   0     10-20  \n",
       "2                      0          0                   0     10-20  \n",
       "3                      0          0                   0     10-20  \n",
       "4                      0          0                   0     10-20  "
      ]
     },
     "execution_count": 8,
     "metadata": {},
     "output_type": "execute_result"
    }
   ],
   "source": [
    "# making a new column for age group\n",
    "age_grp=['10-20','21-30','31-40','41-50','51-60','61-70','71-80','81-90','91-100','101-110','111-120']\n",
    "facebook['age_group'] = pd.cut(facebook.age,bins=np.arange(10,121,10),labels=age_grp,right=True)\n",
    "facebook.head()"
   ]
  },
  {
   "cell_type": "code",
   "execution_count": 9,
   "id": "4ab24a82",
   "metadata": {
    "execution": {
     "iopub.execute_input": "2023-11-05T18:32:18.263111Z",
     "iopub.status.busy": "2023-11-05T18:32:18.262616Z",
     "iopub.status.idle": "2023-11-05T18:32:18.270205Z",
     "shell.execute_reply": "2023-11-05T18:32:18.269326Z"
    },
    "papermill": {
     "duration": 0.019868,
     "end_time": "2023-11-05T18:32:18.271878",
     "exception": false,
     "start_time": "2023-11-05T18:32:18.252010",
     "status": "completed"
    },
    "tags": []
   },
   "outputs": [
    {
     "data": {
      "text/plain": [
       "113"
      ]
     },
     "execution_count": 9,
     "metadata": {},
     "output_type": "execute_result"
    }
   ],
   "source": [
    "# max age on facebook\n",
    "facebook['age'].max()"
   ]
  },
  {
   "cell_type": "code",
   "execution_count": 10,
   "id": "82f47bdd",
   "metadata": {
    "execution": {
     "iopub.execute_input": "2023-11-05T18:32:18.287345Z",
     "iopub.status.busy": "2023-11-05T18:32:18.287015Z",
     "iopub.status.idle": "2023-11-05T18:32:18.299387Z",
     "shell.execute_reply": "2023-11-05T18:32:18.298374Z"
    },
    "papermill": {
     "duration": 0.022216,
     "end_time": "2023-11-05T18:32:18.301171",
     "exception": false,
     "start_time": "2023-11-05T18:32:18.278955",
     "status": "completed"
    },
    "tags": []
   },
   "outputs": [
    {
     "data": {
      "text/html": [
       "<div>\n",
       "<style scoped>\n",
       "    .dataframe tbody tr th:only-of-type {\n",
       "        vertical-align: middle;\n",
       "    }\n",
       "\n",
       "    .dataframe tbody tr th {\n",
       "        vertical-align: top;\n",
       "    }\n",
       "\n",
       "    .dataframe thead th {\n",
       "        text-align: right;\n",
       "    }\n",
       "</style>\n",
       "<table border=\"1\" class=\"dataframe\">\n",
       "  <thead>\n",
       "    <tr style=\"text-align: right;\">\n",
       "      <th></th>\n",
       "      <th>age_group</th>\n",
       "      <th>count</th>\n",
       "    </tr>\n",
       "  </thead>\n",
       "  <tbody>\n",
       "    <tr>\n",
       "      <th>0</th>\n",
       "      <td>21-30</td>\n",
       "      <td>28634</td>\n",
       "    </tr>\n",
       "    <tr>\n",
       "      <th>1</th>\n",
       "      <td>10-20</td>\n",
       "      <td>24747</td>\n",
       "    </tr>\n",
       "    <tr>\n",
       "      <th>2</th>\n",
       "      <td>31-40</td>\n",
       "      <td>12487</td>\n",
       "    </tr>\n",
       "    <tr>\n",
       "      <th>3</th>\n",
       "      <td>51-60</td>\n",
       "      <td>9288</td>\n",
       "    </tr>\n",
       "    <tr>\n",
       "      <th>4</th>\n",
       "      <td>41-50</td>\n",
       "      <td>8962</td>\n",
       "    </tr>\n",
       "    <tr>\n",
       "      <th>5</th>\n",
       "      <td>61-70</td>\n",
       "      <td>6830</td>\n",
       "    </tr>\n",
       "    <tr>\n",
       "      <th>6</th>\n",
       "      <td>101-110</td>\n",
       "      <td>3409</td>\n",
       "    </tr>\n",
       "    <tr>\n",
       "      <th>7</th>\n",
       "      <td>71-80</td>\n",
       "      <td>2234</td>\n",
       "    </tr>\n",
       "    <tr>\n",
       "      <th>8</th>\n",
       "      <td>91-100</td>\n",
       "      <td>1201</td>\n",
       "    </tr>\n",
       "    <tr>\n",
       "      <th>9</th>\n",
       "      <td>81-90</td>\n",
       "      <td>803</td>\n",
       "    </tr>\n",
       "    <tr>\n",
       "      <th>10</th>\n",
       "      <td>111-120</td>\n",
       "      <td>231</td>\n",
       "    </tr>\n",
       "  </tbody>\n",
       "</table>\n",
       "</div>"
      ],
      "text/plain": [
       "   age_group  count\n",
       "0      21-30  28634\n",
       "1      10-20  24747\n",
       "2      31-40  12487\n",
       "3      51-60   9288\n",
       "4      41-50   8962\n",
       "5      61-70   6830\n",
       "6    101-110   3409\n",
       "7      71-80   2234\n",
       "8     91-100   1201\n",
       "9      81-90    803\n",
       "10   111-120    231"
      ]
     },
     "execution_count": 10,
     "metadata": {},
     "output_type": "execute_result"
    }
   ],
   "source": [
    "age_group = facebook['age_group'].value_counts().reset_index()\n",
    "age_group"
   ]
  },
  {
   "cell_type": "code",
   "execution_count": 11,
   "id": "fae53f92",
   "metadata": {
    "execution": {
     "iopub.execute_input": "2023-11-05T18:32:18.322301Z",
     "iopub.status.busy": "2023-11-05T18:32:18.320799Z",
     "iopub.status.idle": "2023-11-05T18:32:18.638405Z",
     "shell.execute_reply": "2023-11-05T18:32:18.637071Z"
    },
    "papermill": {
     "duration": 0.331337,
     "end_time": "2023-11-05T18:32:18.640456",
     "exception": false,
     "start_time": "2023-11-05T18:32:18.309119",
     "status": "completed"
    },
    "tags": []
   },
   "outputs": [
    {
     "data": {
      "text/plain": [
       "<Axes: xlabel='age_group', ylabel='count'>"
      ]
     },
     "execution_count": 11,
     "metadata": {},
     "output_type": "execute_result"
    },
    {
     "data": {
      "image/png": "[encoded data removed]",
      "text/plain": [
       "<Figure size 1200x600 with 1 Axes>"
      ]
     },
     "metadata": {},
     "output_type": "display_data"
    }
   ],
   "source": [
    "# visualize age_group\n",
    "plt.figure(figsize=(12, 6))\n",
    "sns.pointplot(x='age_group', y='count', data=age_group)"
   ]
  },
  {
   "cell_type": "code",
   "execution_count": 12,
   "id": "f3260221",
   "metadata": {
    "execution": {
     "iopub.execute_input": "2023-11-05T18:32:18.657700Z",
     "iopub.status.busy": "2023-11-05T18:32:18.657272Z",
     "iopub.status.idle": "2023-11-05T18:32:18.685091Z",
     "shell.execute_reply": "2023-11-05T18:32:18.683762Z"
    },
    "papermill": {
     "duration": 0.040295,
     "end_time": "2023-11-05T18:32:18.688781",
     "exception": false,
     "start_time": "2023-11-05T18:32:18.648486",
     "status": "completed"
    },
    "tags": []
   },
   "outputs": [
    {
     "data": {
      "text/html": [
       "<div>\n",
       "<style scoped>\n",
       "    .dataframe tbody tr th:only-of-type {\n",
       "        vertical-align: middle;\n",
       "    }\n",
       "\n",
       "    .dataframe tbody tr th {\n",
       "        vertical-align: top;\n",
       "    }\n",
       "\n",
       "    .dataframe thead th {\n",
       "        text-align: right;\n",
       "    }\n",
       "</style>\n",
       "<table border=\"1\" class=\"dataframe\">\n",
       "  <thead>\n",
       "    <tr style=\"text-align: right;\">\n",
       "      <th></th>\n",
       "      <th>userid</th>\n",
       "      <th>age</th>\n",
       "      <th>dob_day</th>\n",
       "      <th>dob_year</th>\n",
       "      <th>dob_month</th>\n",
       "      <th>gender</th>\n",
       "      <th>tenure</th>\n",
       "      <th>friend_count</th>\n",
       "      <th>friendships_initiated</th>\n",
       "      <th>likes</th>\n",
       "      <th>likes_received</th>\n",
       "      <th>mobile_likes</th>\n",
       "      <th>mobile_likes_received</th>\n",
       "      <th>www_likes</th>\n",
       "      <th>www_likes_received</th>\n",
       "      <th>age_group</th>\n",
       "    </tr>\n",
       "  </thead>\n",
       "  <tbody>\n",
       "    <tr>\n",
       "      <th>302</th>\n",
       "      <td>1724334</td>\n",
       "      <td>21</td>\n",
       "      <td>21</td>\n",
       "      <td>1992</td>\n",
       "      <td>11</td>\n",
       "      <td>male</td>\n",
       "      <td>251.0</td>\n",
       "      <td>0</td>\n",
       "      <td>0</td>\n",
       "      <td>0</td>\n",
       "      <td>0</td>\n",
       "      <td>0</td>\n",
       "      <td>0</td>\n",
       "      <td>0</td>\n",
       "      <td>0</td>\n",
       "      <td>21-30</td>\n",
       "    </tr>\n",
       "    <tr>\n",
       "      <th>303</th>\n",
       "      <td>1439541</td>\n",
       "      <td>21</td>\n",
       "      <td>4</td>\n",
       "      <td>1992</td>\n",
       "      <td>11</td>\n",
       "      <td>male</td>\n",
       "      <td>16.0</td>\n",
       "      <td>0</td>\n",
       "      <td>0</td>\n",
       "      <td>0</td>\n",
       "      <td>0</td>\n",
       "      <td>0</td>\n",
       "      <td>0</td>\n",
       "      <td>0</td>\n",
       "      <td>0</td>\n",
       "      <td>21-30</td>\n",
       "    </tr>\n",
       "    <tr>\n",
       "      <th>304</th>\n",
       "      <td>1787342</td>\n",
       "      <td>21</td>\n",
       "      <td>29</td>\n",
       "      <td>1992</td>\n",
       "      <td>12</td>\n",
       "      <td>male</td>\n",
       "      <td>1244.0</td>\n",
       "      <td>0</td>\n",
       "      <td>0</td>\n",
       "      <td>0</td>\n",
       "      <td>0</td>\n",
       "      <td>0</td>\n",
       "      <td>0</td>\n",
       "      <td>0</td>\n",
       "      <td>0</td>\n",
       "      <td>21-30</td>\n",
       "    </tr>\n",
       "    <tr>\n",
       "      <th>305</th>\n",
       "      <td>1592756</td>\n",
       "      <td>21</td>\n",
       "      <td>25</td>\n",
       "      <td>1992</td>\n",
       "      <td>12</td>\n",
       "      <td>male</td>\n",
       "      <td>669.0</td>\n",
       "      <td>0</td>\n",
       "      <td>0</td>\n",
       "      <td>0</td>\n",
       "      <td>0</td>\n",
       "      <td>0</td>\n",
       "      <td>0</td>\n",
       "      <td>0</td>\n",
       "      <td>0</td>\n",
       "      <td>21-30</td>\n",
       "    </tr>\n",
       "    <tr>\n",
       "      <th>306</th>\n",
       "      <td>2160210</td>\n",
       "      <td>21</td>\n",
       "      <td>31</td>\n",
       "      <td>1992</td>\n",
       "      <td>12</td>\n",
       "      <td>male</td>\n",
       "      <td>11.0</td>\n",
       "      <td>0</td>\n",
       "      <td>0</td>\n",
       "      <td>0</td>\n",
       "      <td>0</td>\n",
       "      <td>0</td>\n",
       "      <td>0</td>\n",
       "      <td>0</td>\n",
       "      <td>0</td>\n",
       "      <td>21-30</td>\n",
       "    </tr>\n",
       "    <tr>\n",
       "      <th>...</th>\n",
       "      <td>...</td>\n",
       "      <td>...</td>\n",
       "      <td>...</td>\n",
       "      <td>...</td>\n",
       "      <td>...</td>\n",
       "      <td>...</td>\n",
       "      <td>...</td>\n",
       "      <td>...</td>\n",
       "      <td>...</td>\n",
       "      <td>...</td>\n",
       "      <td>...</td>\n",
       "      <td>...</td>\n",
       "      <td>...</td>\n",
       "      <td>...</td>\n",
       "      <td>...</td>\n",
       "      <td>...</td>\n",
       "    </tr>\n",
       "    <tr>\n",
       "      <th>98988</th>\n",
       "      <td>1729341</td>\n",
       "      <td>21</td>\n",
       "      <td>20</td>\n",
       "      <td>1992</td>\n",
       "      <td>10</td>\n",
       "      <td>male</td>\n",
       "      <td>587.0</td>\n",
       "      <td>2784</td>\n",
       "      <td>809</td>\n",
       "      <td>5177</td>\n",
       "      <td>5423</td>\n",
       "      <td>4759</td>\n",
       "      <td>3278</td>\n",
       "      <td>418</td>\n",
       "      <td>2145</td>\n",
       "      <td>21-30</td>\n",
       "    </tr>\n",
       "    <tr>\n",
       "      <th>98989</th>\n",
       "      <td>1008872</td>\n",
       "      <td>25</td>\n",
       "      <td>5</td>\n",
       "      <td>1988</td>\n",
       "      <td>9</td>\n",
       "      <td>female</td>\n",
       "      <td>273.0</td>\n",
       "      <td>2332</td>\n",
       "      <td>1849</td>\n",
       "      <td>6135</td>\n",
       "      <td>4952</td>\n",
       "      <td>6029</td>\n",
       "      <td>4547</td>\n",
       "      <td>106</td>\n",
       "      <td>405</td>\n",
       "      <td>21-30</td>\n",
       "    </tr>\n",
       "    <tr>\n",
       "      <th>98996</th>\n",
       "      <td>1668695</td>\n",
       "      <td>24</td>\n",
       "      <td>25</td>\n",
       "      <td>1989</td>\n",
       "      <td>4</td>\n",
       "      <td>female</td>\n",
       "      <td>182.0</td>\n",
       "      <td>2938</td>\n",
       "      <td>1272</td>\n",
       "      <td>6018</td>\n",
       "      <td>17765</td>\n",
       "      <td>5843</td>\n",
       "      <td>11708</td>\n",
       "      <td>175</td>\n",
       "      <td>6057</td>\n",
       "      <td>21-30</td>\n",
       "    </tr>\n",
       "    <tr>\n",
       "      <th>98997</th>\n",
       "      <td>1458985</td>\n",
       "      <td>28</td>\n",
       "      <td>14</td>\n",
       "      <td>1985</td>\n",
       "      <td>12</td>\n",
       "      <td>female</td>\n",
       "      <td>290.0</td>\n",
       "      <td>2218</td>\n",
       "      <td>1618</td>\n",
       "      <td>4626</td>\n",
       "      <td>10268</td>\n",
       "      <td>4290</td>\n",
       "      <td>4250</td>\n",
       "      <td>336</td>\n",
       "      <td>6018</td>\n",
       "      <td>21-30</td>\n",
       "    </tr>\n",
       "    <tr>\n",
       "      <th>99001</th>\n",
       "      <td>1468023</td>\n",
       "      <td>23</td>\n",
       "      <td>11</td>\n",
       "      <td>1990</td>\n",
       "      <td>4</td>\n",
       "      <td>female</td>\n",
       "      <td>416.0</td>\n",
       "      <td>2560</td>\n",
       "      <td>185</td>\n",
       "      <td>4506</td>\n",
       "      <td>6516</td>\n",
       "      <td>4506</td>\n",
       "      <td>5760</td>\n",
       "      <td>0</td>\n",
       "      <td>756</td>\n",
       "      <td>21-30</td>\n",
       "    </tr>\n",
       "  </tbody>\n",
       "</table>\n",
       "<p>28634 rows × 16 columns</p>\n",
       "</div>"
      ],
      "text/plain": [
       "        userid  age  dob_day  dob_year  dob_month  gender  tenure  \\\n",
       "302    1724334   21       21      1992         11    male   251.0   \n",
       "303    1439541   21        4      1992         11    male    16.0   \n",
       "304    1787342   21       29      1992         12    male  1244.0   \n",
       "305    1592756   21       25      1992         12    male   669.0   \n",
       "306    2160210   21       31      1992         12    male    11.0   \n",
       "...        ...  ...      ...       ...        ...     ...     ...   \n",
       "98988  1729341   21       20      1992         10    male   587.0   \n",
       "98989  1008872   25        5      1988          9  female   273.0   \n",
       "98996  1668695   24       25      1989          4  female   182.0   \n",
       "98997  1458985   28       14      1985         12  female   290.0   \n",
       "99001  1468023   23       11      1990          4  female   416.0   \n",
       "\n",
       "       friend_count  friendships_initiated  likes  likes_received  \\\n",
       "302               0                      0      0               0   \n",
       "303               0                      0      0               0   \n",
       "304               0                      0      0               0   \n",
       "305               0                      0      0               0   \n",
       "306               0                      0      0               0   \n",
       "...             ...                    ...    ...             ...   \n",
       "98988          2784                    809   5177            5423   \n",
       "98989          2332                   1849   6135            4952   \n",
       "98996          2938                   1272   6018           17765   \n",
       "98997          2218                   1618   4626           10268   \n",
       "99001          2560                    185   4506            6516   \n",
       "\n",
       "       mobile_likes  mobile_likes_received  www_likes  www_likes_received  \\\n",
       "302               0                      0          0                   0   \n",
       "303               0                      0          0                   0   \n",
       "304               0                      0          0                   0   \n",
       "305               0                      0          0                   0   \n",
       "306               0                      0          0                   0   \n",
       "...             ...                    ...        ...                 ...   \n",
       "98988          4759                   3278        418                2145   \n",
       "98989          6029                   4547        106                 405   \n",
       "98996          5843                  11708        175                6057   \n",
       "98997          4290                   4250        336                6018   \n",
       "99001          4506                   5760          0                 756   \n",
       "\n",
       "      age_group  \n",
       "302       21-30  \n",
       "303       21-30  \n",
       "304       21-30  \n",
       "305       21-30  \n",
       "306       21-30  \n",
       "...         ...  \n",
       "98988     21-30  \n",
       "98989     21-30  \n",
       "98996     21-30  \n",
       "98997     21-30  \n",
       "99001     21-30  \n",
       "\n",
       "[28634 rows x 16 columns]"
      ]
     },
     "execution_count": 12,
     "metadata": {},
     "output_type": "execute_result"
    }
   ],
   "source": [
    "age_20s = facebook[ (facebook['age'] > 20) & (facebook['age'] <= 30) ]\n",
    "age_20s"
   ]
  },
  {
   "cell_type": "code",
   "execution_count": 13,
   "id": "b37bbf91",
   "metadata": {
    "execution": {
     "iopub.execute_input": "2023-11-05T18:32:18.710585Z",
     "iopub.status.busy": "2023-11-05T18:32:18.710133Z",
     "iopub.status.idle": "2023-11-05T18:32:18.722866Z",
     "shell.execute_reply": "2023-11-05T18:32:18.721672Z"
    },
    "papermill": {
     "duration": 0.026051,
     "end_time": "2023-11-05T18:32:18.724997",
     "exception": false,
     "start_time": "2023-11-05T18:32:18.698946",
     "status": "completed"
    },
    "tags": []
   },
   "outputs": [
    {
     "data": {
      "text/html": [
       "<div>\n",
       "<style scoped>\n",
       "    .dataframe tbody tr th:only-of-type {\n",
       "        vertical-align: middle;\n",
       "    }\n",
       "\n",
       "    .dataframe tbody tr th {\n",
       "        vertical-align: top;\n",
       "    }\n",
       "\n",
       "    .dataframe thead th {\n",
       "        text-align: right;\n",
       "    }\n",
       "</style>\n",
       "<table border=\"1\" class=\"dataframe\">\n",
       "  <thead>\n",
       "    <tr style=\"text-align: right;\">\n",
       "      <th></th>\n",
       "      <th>age</th>\n",
       "      <th>count</th>\n",
       "    </tr>\n",
       "  </thead>\n",
       "  <tbody>\n",
       "    <tr>\n",
       "      <th>0</th>\n",
       "      <td>23</td>\n",
       "      <td>4402</td>\n",
       "    </tr>\n",
       "    <tr>\n",
       "      <th>1</th>\n",
       "      <td>21</td>\n",
       "      <td>3670</td>\n",
       "    </tr>\n",
       "    <tr>\n",
       "      <th>2</th>\n",
       "      <td>25</td>\n",
       "      <td>3636</td>\n",
       "    </tr>\n",
       "    <tr>\n",
       "      <th>3</th>\n",
       "      <td>22</td>\n",
       "      <td>3032</td>\n",
       "    </tr>\n",
       "    <tr>\n",
       "      <th>4</th>\n",
       "      <td>24</td>\n",
       "      <td>2827</td>\n",
       "    </tr>\n",
       "    <tr>\n",
       "      <th>5</th>\n",
       "      <td>26</td>\n",
       "      <td>2814</td>\n",
       "    </tr>\n",
       "    <tr>\n",
       "      <th>6</th>\n",
       "      <td>28</td>\n",
       "      <td>2363</td>\n",
       "    </tr>\n",
       "    <tr>\n",
       "      <th>7</th>\n",
       "      <td>27</td>\n",
       "      <td>2239</td>\n",
       "    </tr>\n",
       "    <tr>\n",
       "      <th>8</th>\n",
       "      <td>29</td>\n",
       "      <td>1935</td>\n",
       "    </tr>\n",
       "    <tr>\n",
       "      <th>9</th>\n",
       "      <td>30</td>\n",
       "      <td>1716</td>\n",
       "    </tr>\n",
       "  </tbody>\n",
       "</table>\n",
       "</div>"
      ],
      "text/plain": [
       "   age  count\n",
       "0   23   4402\n",
       "1   21   3670\n",
       "2   25   3636\n",
       "3   22   3032\n",
       "4   24   2827\n",
       "5   26   2814\n",
       "6   28   2363\n",
       "7   27   2239\n",
       "8   29   1935\n",
       "9   30   1716"
      ]
     },
     "execution_count": 13,
     "metadata": {},
     "output_type": "execute_result"
    }
   ],
   "source": [
    "df = age_20s['age'].value_counts().sort_values(ascending=False).reset_index()\n",
    "df"
   ]
  },
  {
   "cell_type": "code",
   "execution_count": 14,
   "id": "ba089f8f",
   "metadata": {
    "execution": {
     "iopub.execute_input": "2023-11-05T18:32:18.745321Z",
     "iopub.status.busy": "2023-11-05T18:32:18.744914Z",
     "iopub.status.idle": "2023-11-05T18:32:18.986093Z",
     "shell.execute_reply": "2023-11-05T18:32:18.984869Z"
    },
    "papermill": {
     "duration": 0.254005,
     "end_time": "2023-11-05T18:32:18.988058",
     "exception": false,
     "start_time": "2023-11-05T18:32:18.734053",
     "status": "completed"
    },
    "tags": []
   },
   "outputs": [
    {
     "data": {
      "text/plain": [
       "<Axes: xlabel='age', ylabel='count'>"
      ]
     },
     "execution_count": 14,
     "metadata": {},
     "output_type": "execute_result"
    },
    {
     "data": {
      "image/png": "[encoded data removed]",
      "text/plain": [
       "<Figure size 1200x600 with 1 Axes>"
      ]
     },
     "metadata": {},
     "output_type": "display_data"
    }
   ],
   "source": [
    "# visualize the the number of each age in the biggest age group\n",
    "plt.figure(figsize=(12, 6))\n",
    "sns.barplot(x='age', y='count', data=df)"
   ]
  },
  {
   "cell_type": "code",
   "execution_count": 15,
   "id": "414029db",
   "metadata": {
    "execution": {
     "iopub.execute_input": "2023-11-05T18:32:19.009089Z",
     "iopub.status.busy": "2023-11-05T18:32:19.008576Z",
     "iopub.status.idle": "2023-11-05T18:32:19.026484Z",
     "shell.execute_reply": "2023-11-05T18:32:19.025332Z"
    },
    "papermill": {
     "duration": 0.032209,
     "end_time": "2023-11-05T18:32:19.029518",
     "exception": false,
     "start_time": "2023-11-05T18:32:18.997309",
     "status": "completed"
    },
    "tags": []
   },
   "outputs": [
    {
     "data": {
      "text/html": [
       "<div>\n",
       "<style scoped>\n",
       "    .dataframe tbody tr th:only-of-type {\n",
       "        vertical-align: middle;\n",
       "    }\n",
       "\n",
       "    .dataframe tbody tr th {\n",
       "        vertical-align: top;\n",
       "    }\n",
       "\n",
       "    .dataframe thead th {\n",
       "        text-align: right;\n",
       "    }\n",
       "</style>\n",
       "<table border=\"1\" class=\"dataframe\">\n",
       "  <thead>\n",
       "    <tr style=\"text-align: right;\">\n",
       "      <th></th>\n",
       "      <th>gender</th>\n",
       "      <th>count</th>\n",
       "    </tr>\n",
       "  </thead>\n",
       "  <tbody>\n",
       "    <tr>\n",
       "      <th>0</th>\n",
       "      <td>male</td>\n",
       "      <td>58574</td>\n",
       "    </tr>\n",
       "    <tr>\n",
       "      <th>1</th>\n",
       "      <td>female</td>\n",
       "      <td>40252</td>\n",
       "    </tr>\n",
       "  </tbody>\n",
       "</table>\n",
       "</div>"
      ],
      "text/plain": [
       "   gender  count\n",
       "0    male  58574\n",
       "1  female  40252"
      ]
     },
     "execution_count": 15,
     "metadata": {},
     "output_type": "execute_result"
    }
   ],
   "source": [
    "gender = facebook['gender'].value_counts().reset_index()\n",
    "gender"
   ]
  },
  {
   "cell_type": "code",
   "execution_count": 16,
   "id": "348f2f59",
   "metadata": {
    "execution": {
     "iopub.execute_input": "2023-11-05T18:32:19.053591Z",
     "iopub.status.busy": "2023-11-05T18:32:19.053118Z",
     "iopub.status.idle": "2023-11-05T18:32:19.260506Z",
     "shell.execute_reply": "2023-11-05T18:32:19.259370Z"
    },
    "papermill": {
     "duration": 0.222281,
     "end_time": "2023-11-05T18:32:19.262374",
     "exception": false,
     "start_time": "2023-11-05T18:32:19.040093",
     "status": "completed"
    },
    "tags": []
   },
   "outputs": [
    {
     "data": {
      "text/plain": [
       "<Axes: xlabel='gender', ylabel='count'>"
      ]
     },
     "execution_count": 16,
     "metadata": {},
     "output_type": "execute_result"
    },
    {
     "data": {
      "image/png": "[encoded data removed]",
      "text/plain": [
       "<Figure size 800x600 with 1 Axes>"
      ]
     },
     "metadata": {},
     "output_type": "display_data"
    }
   ],
   "source": [
    "# visualize gender\n",
    "plt.figure(figsize=(8, 6))\n",
    "sns.countplot(x='gender', data=facebook)"
   ]
  },
  {
   "cell_type": "code",
   "execution_count": 17,
   "id": "aa3f16b7",
   "metadata": {
    "execution": {
     "iopub.execute_input": "2023-11-05T18:32:19.283348Z",
     "iopub.status.busy": "2023-11-05T18:32:19.282563Z",
     "iopub.status.idle": "2023-11-05T18:32:19.306774Z",
     "shell.execute_reply": "2023-11-05T18:32:19.305855Z"
    },
    "papermill": {
     "duration": 0.036696,
     "end_time": "2023-11-05T18:32:19.308589",
     "exception": false,
     "start_time": "2023-11-05T18:32:19.271893",
     "status": "completed"
    },
    "tags": []
   },
   "outputs": [
    {
     "data": {
      "text/html": [
       "<div>\n",
       "<style scoped>\n",
       "    .dataframe tbody tr th:only-of-type {\n",
       "        vertical-align: middle;\n",
       "    }\n",
       "\n",
       "    .dataframe tbody tr th {\n",
       "        vertical-align: top;\n",
       "    }\n",
       "\n",
       "    .dataframe thead th {\n",
       "        text-align: right;\n",
       "    }\n",
       "</style>\n",
       "<table border=\"1\" class=\"dataframe\">\n",
       "  <thead>\n",
       "    <tr style=\"text-align: right;\">\n",
       "      <th></th>\n",
       "      <th>age_group</th>\n",
       "      <th>gender</th>\n",
       "      <th>count</th>\n",
       "    </tr>\n",
       "  </thead>\n",
       "  <tbody>\n",
       "    <tr>\n",
       "      <th>0</th>\n",
       "      <td>21-30</td>\n",
       "      <td>male</td>\n",
       "      <td>18828</td>\n",
       "    </tr>\n",
       "    <tr>\n",
       "      <th>1</th>\n",
       "      <td>10-20</td>\n",
       "      <td>male</td>\n",
       "      <td>15044</td>\n",
       "    </tr>\n",
       "    <tr>\n",
       "      <th>2</th>\n",
       "      <td>21-30</td>\n",
       "      <td>female</td>\n",
       "      <td>9806</td>\n",
       "    </tr>\n",
       "    <tr>\n",
       "      <th>3</th>\n",
       "      <td>10-20</td>\n",
       "      <td>female</td>\n",
       "      <td>9703</td>\n",
       "    </tr>\n",
       "    <tr>\n",
       "      <th>4</th>\n",
       "      <td>31-40</td>\n",
       "      <td>male</td>\n",
       "      <td>7799</td>\n",
       "    </tr>\n",
       "    <tr>\n",
       "      <th>5</th>\n",
       "      <td>41-50</td>\n",
       "      <td>male</td>\n",
       "      <td>5031</td>\n",
       "    </tr>\n",
       "    <tr>\n",
       "      <th>6</th>\n",
       "      <td>51-60</td>\n",
       "      <td>female</td>\n",
       "      <td>4921</td>\n",
       "    </tr>\n",
       "    <tr>\n",
       "      <th>7</th>\n",
       "      <td>31-40</td>\n",
       "      <td>female</td>\n",
       "      <td>4688</td>\n",
       "    </tr>\n",
       "    <tr>\n",
       "      <th>8</th>\n",
       "      <td>51-60</td>\n",
       "      <td>male</td>\n",
       "      <td>4367</td>\n",
       "    </tr>\n",
       "    <tr>\n",
       "      <th>9</th>\n",
       "      <td>41-50</td>\n",
       "      <td>female</td>\n",
       "      <td>3931</td>\n",
       "    </tr>\n",
       "    <tr>\n",
       "      <th>10</th>\n",
       "      <td>61-70</td>\n",
       "      <td>female</td>\n",
       "      <td>3659</td>\n",
       "    </tr>\n",
       "    <tr>\n",
       "      <th>11</th>\n",
       "      <td>61-70</td>\n",
       "      <td>male</td>\n",
       "      <td>3171</td>\n",
       "    </tr>\n",
       "    <tr>\n",
       "      <th>12</th>\n",
       "      <td>101-110</td>\n",
       "      <td>male</td>\n",
       "      <td>2092</td>\n",
       "    </tr>\n",
       "    <tr>\n",
       "      <th>13</th>\n",
       "      <td>101-110</td>\n",
       "      <td>female</td>\n",
       "      <td>1317</td>\n",
       "    </tr>\n",
       "    <tr>\n",
       "      <th>14</th>\n",
       "      <td>71-80</td>\n",
       "      <td>female</td>\n",
       "      <td>1229</td>\n",
       "    </tr>\n",
       "    <tr>\n",
       "      <th>15</th>\n",
       "      <td>71-80</td>\n",
       "      <td>male</td>\n",
       "      <td>1005</td>\n",
       "    </tr>\n",
       "    <tr>\n",
       "      <th>16</th>\n",
       "      <td>91-100</td>\n",
       "      <td>male</td>\n",
       "      <td>704</td>\n",
       "    </tr>\n",
       "    <tr>\n",
       "      <th>17</th>\n",
       "      <td>91-100</td>\n",
       "      <td>female</td>\n",
       "      <td>497</td>\n",
       "    </tr>\n",
       "    <tr>\n",
       "      <th>18</th>\n",
       "      <td>81-90</td>\n",
       "      <td>male</td>\n",
       "      <td>419</td>\n",
       "    </tr>\n",
       "    <tr>\n",
       "      <th>19</th>\n",
       "      <td>81-90</td>\n",
       "      <td>female</td>\n",
       "      <td>384</td>\n",
       "    </tr>\n",
       "    <tr>\n",
       "      <th>20</th>\n",
       "      <td>111-120</td>\n",
       "      <td>female</td>\n",
       "      <td>117</td>\n",
       "    </tr>\n",
       "    <tr>\n",
       "      <th>21</th>\n",
       "      <td>111-120</td>\n",
       "      <td>male</td>\n",
       "      <td>114</td>\n",
       "    </tr>\n",
       "  </tbody>\n",
       "</table>\n",
       "</div>"
      ],
      "text/plain": [
       "   age_group  gender  count\n",
       "0      21-30    male  18828\n",
       "1      10-20    male  15044\n",
       "2      21-30  female   9806\n",
       "3      10-20  female   9703\n",
       "4      31-40    male   7799\n",
       "5      41-50    male   5031\n",
       "6      51-60  female   4921\n",
       "7      31-40  female   4688\n",
       "8      51-60    male   4367\n",
       "9      41-50  female   3931\n",
       "10     61-70  female   3659\n",
       "11     61-70    male   3171\n",
       "12   101-110    male   2092\n",
       "13   101-110  female   1317\n",
       "14     71-80  female   1229\n",
       "15     71-80    male   1005\n",
       "16    91-100    male    704\n",
       "17    91-100  female    497\n",
       "18     81-90    male    419\n",
       "19     81-90  female    384\n",
       "20   111-120  female    117\n",
       "21   111-120    male    114"
      ]
     },
     "execution_count": 17,
     "metadata": {},
     "output_type": "execute_result"
    }
   ],
   "source": [
    "age_gender_group = facebook[['age_group', 'gender']].value_counts().sort_values(ascending=False).reset_index()\n",
    "age_gender_group"
   ]
  },
  {
   "cell_type": "code",
   "execution_count": 18,
   "id": "933a2d9c",
   "metadata": {
    "execution": {
     "iopub.execute_input": "2023-11-05T18:32:19.329551Z",
     "iopub.status.busy": "2023-11-05T18:32:19.329106Z",
     "iopub.status.idle": "2023-11-05T18:32:19.668093Z",
     "shell.execute_reply": "2023-11-05T18:32:19.667094Z"
    },
    "papermill": {
     "duration": 0.351807,
     "end_time": "2023-11-05T18:32:19.670161",
     "exception": false,
     "start_time": "2023-11-05T18:32:19.318354",
     "status": "completed"
    },
    "tags": []
   },
   "outputs": [
    {
     "data": {
      "text/plain": [
       "Text(0.5, 0, 'age')"
      ]
     },
     "execution_count": 18,
     "metadata": {},
     "output_type": "execute_result"
    },
    {
     "data": {
      "image/png": "[encoded data removed]",
      "text/plain": [
       "<Figure size 1200x800 with 1 Axes>"
      ]
     },
     "metadata": {},
     "output_type": "display_data"
    }
   ],
   "source": [
    "# visualize age_gender_group\n",
    "plt.figure(figsize=(12, 8))\n",
    "sns.barplot(data=age_gender_group, x='age_group', y='count', hue='gender')\n",
    "plt.xlabel('age')"
   ]
  },
  {
   "cell_type": "code",
   "execution_count": 19,
   "id": "1ff2a66a",
   "metadata": {
    "execution": {
     "iopub.execute_input": "2023-11-05T18:32:19.692505Z",
     "iopub.status.busy": "2023-11-05T18:32:19.692136Z",
     "iopub.status.idle": "2023-11-05T18:32:19.710406Z",
     "shell.execute_reply": "2023-11-05T18:32:19.709564Z"
    },
    "papermill": {
     "duration": 0.031832,
     "end_time": "2023-11-05T18:32:19.712230",
     "exception": false,
     "start_time": "2023-11-05T18:32:19.680398",
     "status": "completed"
    },
    "tags": []
   },
   "outputs": [
    {
     "data": {
      "text/html": [
       "<div>\n",
       "<style scoped>\n",
       "    .dataframe tbody tr th:only-of-type {\n",
       "        vertical-align: middle;\n",
       "    }\n",
       "\n",
       "    .dataframe tbody tr th {\n",
       "        vertical-align: top;\n",
       "    }\n",
       "\n",
       "    .dataframe thead th {\n",
       "        text-align: right;\n",
       "    }\n",
       "</style>\n",
       "<table border=\"1\" class=\"dataframe\">\n",
       "  <thead>\n",
       "    <tr style=\"text-align: right;\">\n",
       "      <th></th>\n",
       "      <th>age</th>\n",
       "      <th>gender</th>\n",
       "      <th>count</th>\n",
       "    </tr>\n",
       "  </thead>\n",
       "  <tbody>\n",
       "    <tr>\n",
       "      <th>0</th>\n",
       "      <td>23</td>\n",
       "      <td>male</td>\n",
       "      <td>2964</td>\n",
       "    </tr>\n",
       "    <tr>\n",
       "      <th>1</th>\n",
       "      <td>25</td>\n",
       "      <td>male</td>\n",
       "      <td>2443</td>\n",
       "    </tr>\n",
       "    <tr>\n",
       "      <th>2</th>\n",
       "      <td>21</td>\n",
       "      <td>male</td>\n",
       "      <td>2335</td>\n",
       "    </tr>\n",
       "    <tr>\n",
       "      <th>3</th>\n",
       "      <td>22</td>\n",
       "      <td>male</td>\n",
       "      <td>1900</td>\n",
       "    </tr>\n",
       "    <tr>\n",
       "      <th>4</th>\n",
       "      <td>26</td>\n",
       "      <td>male</td>\n",
       "      <td>1899</td>\n",
       "    </tr>\n",
       "    <tr>\n",
       "      <th>5</th>\n",
       "      <td>24</td>\n",
       "      <td>male</td>\n",
       "      <td>1852</td>\n",
       "    </tr>\n",
       "    <tr>\n",
       "      <th>6</th>\n",
       "      <td>28</td>\n",
       "      <td>male</td>\n",
       "      <td>1584</td>\n",
       "    </tr>\n",
       "    <tr>\n",
       "      <th>7</th>\n",
       "      <td>27</td>\n",
       "      <td>male</td>\n",
       "      <td>1477</td>\n",
       "    </tr>\n",
       "    <tr>\n",
       "      <th>8</th>\n",
       "      <td>23</td>\n",
       "      <td>female</td>\n",
       "      <td>1438</td>\n",
       "    </tr>\n",
       "    <tr>\n",
       "      <th>9</th>\n",
       "      <td>21</td>\n",
       "      <td>female</td>\n",
       "      <td>1335</td>\n",
       "    </tr>\n",
       "    <tr>\n",
       "      <th>10</th>\n",
       "      <td>29</td>\n",
       "      <td>male</td>\n",
       "      <td>1258</td>\n",
       "    </tr>\n",
       "    <tr>\n",
       "      <th>11</th>\n",
       "      <td>25</td>\n",
       "      <td>female</td>\n",
       "      <td>1193</td>\n",
       "    </tr>\n",
       "    <tr>\n",
       "      <th>12</th>\n",
       "      <td>22</td>\n",
       "      <td>female</td>\n",
       "      <td>1132</td>\n",
       "    </tr>\n",
       "    <tr>\n",
       "      <th>13</th>\n",
       "      <td>30</td>\n",
       "      <td>male</td>\n",
       "      <td>1116</td>\n",
       "    </tr>\n",
       "    <tr>\n",
       "      <th>14</th>\n",
       "      <td>24</td>\n",
       "      <td>female</td>\n",
       "      <td>975</td>\n",
       "    </tr>\n",
       "    <tr>\n",
       "      <th>15</th>\n",
       "      <td>26</td>\n",
       "      <td>female</td>\n",
       "      <td>915</td>\n",
       "    </tr>\n",
       "    <tr>\n",
       "      <th>16</th>\n",
       "      <td>28</td>\n",
       "      <td>female</td>\n",
       "      <td>779</td>\n",
       "    </tr>\n",
       "    <tr>\n",
       "      <th>17</th>\n",
       "      <td>27</td>\n",
       "      <td>female</td>\n",
       "      <td>762</td>\n",
       "    </tr>\n",
       "    <tr>\n",
       "      <th>18</th>\n",
       "      <td>29</td>\n",
       "      <td>female</td>\n",
       "      <td>677</td>\n",
       "    </tr>\n",
       "    <tr>\n",
       "      <th>19</th>\n",
       "      <td>30</td>\n",
       "      <td>female</td>\n",
       "      <td>600</td>\n",
       "    </tr>\n",
       "  </tbody>\n",
       "</table>\n",
       "</div>"
      ],
      "text/plain": [
       "    age  gender  count\n",
       "0    23    male   2964\n",
       "1    25    male   2443\n",
       "2    21    male   2335\n",
       "3    22    male   1900\n",
       "4    26    male   1899\n",
       "5    24    male   1852\n",
       "6    28    male   1584\n",
       "7    27    male   1477\n",
       "8    23  female   1438\n",
       "9    21  female   1335\n",
       "10   29    male   1258\n",
       "11   25  female   1193\n",
       "12   22  female   1132\n",
       "13   30    male   1116\n",
       "14   24  female    975\n",
       "15   26  female    915\n",
       "16   28  female    779\n",
       "17   27  female    762\n",
       "18   29  female    677\n",
       "19   30  female    600"
      ]
     },
     "execution_count": 19,
     "metadata": {},
     "output_type": "execute_result"
    }
   ],
   "source": [
    "df_gender = age_20s[['age', 'gender']].value_counts().sort_values(ascending=False).reset_index()\n",
    "df_gender"
   ]
  },
  {
   "cell_type": "code",
   "execution_count": 20,
   "id": "67691079",
   "metadata": {
    "execution": {
     "iopub.execute_input": "2023-11-05T18:32:19.734802Z",
     "iopub.status.busy": "2023-11-05T18:32:19.734221Z",
     "iopub.status.idle": "2023-11-05T18:32:20.046588Z",
     "shell.execute_reply": "2023-11-05T18:32:20.045160Z"
    },
    "papermill": {
     "duration": 0.327602,
     "end_time": "2023-11-05T18:32:20.050564",
     "exception": false,
     "start_time": "2023-11-05T18:32:19.722962",
     "status": "completed"
    },
    "tags": []
   },
   "outputs": [
    {
     "data": {
      "text/plain": [
       "<Axes: xlabel='age', ylabel='count'>"
      ]
     },
     "execution_count": 20,
     "metadata": {},
     "output_type": "execute_result"
    },
    {
     "data": {
      "image/png": "[encoded data removed]",
      "text/plain": [
       "<Figure size 800x600 with 1 Axes>"
      ]
     },
     "metadata": {},
     "output_type": "display_data"
    }
   ],
   "source": [
    "# visualize gender in the biggest age group\n",
    "plt.figure(figsize=(8, 6))\n",
    "sns.barplot(data=df_gender, x='age', y='count', hue='gender')"
   ]
  },
  {
   "cell_type": "code",
   "execution_count": 21,
   "id": "5b8f5785",
   "metadata": {
    "execution": {
     "iopub.execute_input": "2023-11-05T18:32:20.075830Z",
     "iopub.status.busy": "2023-11-05T18:32:20.075374Z",
     "iopub.status.idle": "2023-11-05T18:32:20.648625Z",
     "shell.execute_reply": "2023-11-05T18:32:20.647656Z"
    },
    "papermill": {
     "duration": 0.588457,
     "end_time": "2023-11-05T18:32:20.650679",
     "exception": false,
     "start_time": "2023-11-05T18:32:20.062222",
     "status": "completed"
    },
    "tags": []
   },
   "outputs": [
    {
     "data": {
      "text/plain": [
       "<Axes: xlabel='age_group', ylabel='friend_count'>"
      ]
     },
     "execution_count": 21,
     "metadata": {},
     "output_type": "execute_result"
    },
    {
     "data": {
      "image/png": "[encoded data removed]",
      "text/plain": [
       "<Figure size 1200x500 with 1 Axes>"
      ]
     },
     "metadata": {},
     "output_type": "display_data"
    }
   ],
   "source": [
    "# visualize friend count for each age group\n",
    "plt.figure(figsize=(12, 5))\n",
    "sns.scatterplot(x='age_group', y='friend_count', data=facebook)"
   ]
  },
  {
   "cell_type": "code",
   "execution_count": 22,
   "id": "774679e8",
   "metadata": {
    "execution": {
     "iopub.execute_input": "2023-11-05T18:32:20.675777Z",
     "iopub.status.busy": "2023-11-05T18:32:20.675371Z",
     "iopub.status.idle": "2023-11-05T18:32:20.687111Z",
     "shell.execute_reply": "2023-11-05T18:32:20.686492Z"
    },
    "papermill": {
     "duration": 0.027035,
     "end_time": "2023-11-05T18:32:20.690143",
     "exception": false,
     "start_time": "2023-11-05T18:32:20.663108",
     "status": "completed"
    },
    "tags": []
   },
   "outputs": [
    {
     "data": {
      "text/html": [
       "<div>\n",
       "<style scoped>\n",
       "    .dataframe tbody tr th:only-of-type {\n",
       "        vertical-align: middle;\n",
       "    }\n",
       "\n",
       "    .dataframe tbody tr th {\n",
       "        vertical-align: top;\n",
       "    }\n",
       "\n",
       "    .dataframe thead th {\n",
       "        text-align: right;\n",
       "    }\n",
       "</style>\n",
       "<table border=\"1\" class=\"dataframe\">\n",
       "  <thead>\n",
       "    <tr style=\"text-align: right;\">\n",
       "      <th></th>\n",
       "      <th>age_group</th>\n",
       "      <th>count</th>\n",
       "    </tr>\n",
       "  </thead>\n",
       "  <tbody>\n",
       "    <tr>\n",
       "      <th>0</th>\n",
       "      <td>21-30</td>\n",
       "      <td>28634</td>\n",
       "    </tr>\n",
       "    <tr>\n",
       "      <th>1</th>\n",
       "      <td>10-20</td>\n",
       "      <td>24747</td>\n",
       "    </tr>\n",
       "    <tr>\n",
       "      <th>2</th>\n",
       "      <td>31-40</td>\n",
       "      <td>12487</td>\n",
       "    </tr>\n",
       "    <tr>\n",
       "      <th>3</th>\n",
       "      <td>51-60</td>\n",
       "      <td>9288</td>\n",
       "    </tr>\n",
       "    <tr>\n",
       "      <th>4</th>\n",
       "      <td>41-50</td>\n",
       "      <td>8962</td>\n",
       "    </tr>\n",
       "    <tr>\n",
       "      <th>5</th>\n",
       "      <td>61-70</td>\n",
       "      <td>6830</td>\n",
       "    </tr>\n",
       "    <tr>\n",
       "      <th>6</th>\n",
       "      <td>101-110</td>\n",
       "      <td>3409</td>\n",
       "    </tr>\n",
       "    <tr>\n",
       "      <th>7</th>\n",
       "      <td>71-80</td>\n",
       "      <td>2234</td>\n",
       "    </tr>\n",
       "    <tr>\n",
       "      <th>8</th>\n",
       "      <td>91-100</td>\n",
       "      <td>1201</td>\n",
       "    </tr>\n",
       "    <tr>\n",
       "      <th>9</th>\n",
       "      <td>81-90</td>\n",
       "      <td>803</td>\n",
       "    </tr>\n",
       "    <tr>\n",
       "      <th>10</th>\n",
       "      <td>111-120</td>\n",
       "      <td>231</td>\n",
       "    </tr>\n",
       "  </tbody>\n",
       "</table>\n",
       "</div>"
      ],
      "text/plain": [
       "   age_group  count\n",
       "0      21-30  28634\n",
       "1      10-20  24747\n",
       "2      31-40  12487\n",
       "3      51-60   9288\n",
       "4      41-50   8962\n",
       "5      61-70   6830\n",
       "6    101-110   3409\n",
       "7      71-80   2234\n",
       "8     91-100   1201\n",
       "9      81-90    803\n",
       "10   111-120    231"
      ]
     },
     "execution_count": 22,
     "metadata": {},
     "output_type": "execute_result"
    }
   ],
   "source": [
    "ages_friend_count = facebook[['age_group', 'friend_count']]['age_group'].value_counts().reset_index()\n",
    "ages_friend_count"
   ]
  },
  {
   "cell_type": "code",
   "execution_count": 23,
   "id": "586e43f7",
   "metadata": {
    "execution": {
     "iopub.execute_input": "2023-11-05T18:32:20.718378Z",
     "iopub.status.busy": "2023-11-05T18:32:20.717763Z",
     "iopub.status.idle": "2023-11-05T18:32:20.982851Z",
     "shell.execute_reply": "2023-11-05T18:32:20.981606Z"
    },
    "papermill": {
     "duration": 0.281917,
     "end_time": "2023-11-05T18:32:20.985315",
     "exception": false,
     "start_time": "2023-11-05T18:32:20.703398",
     "status": "completed"
    },
    "tags": []
   },
   "outputs": [
    {
     "data": {
      "text/plain": [
       "<Axes: xlabel='age_group', ylabel='count'>"
      ]
     },
     "execution_count": 23,
     "metadata": {},
     "output_type": "execute_result"
    },
    {
     "data": {
      "image/png": "[encoded data removed]",
      "text/plain": [
       "<Figure size 1200x800 with 1 Axes>"
      ]
     },
     "metadata": {},
     "output_type": "display_data"
    }
   ],
   "source": [
    "# visualize friend_count for each age group\n",
    "plt.figure(figsize=(12, 8))\n",
    "sns.pointplot(x='age_group', y='count', data=ages_friend_count)"
   ]
  },
  {
   "cell_type": "code",
   "execution_count": 24,
   "id": "c9e35d9c",
   "metadata": {
    "execution": {
     "iopub.execute_input": "2023-11-05T18:32:21.015581Z",
     "iopub.status.busy": "2023-11-05T18:32:21.014373Z",
     "iopub.status.idle": "2023-11-05T18:32:23.004861Z",
     "shell.execute_reply": "2023-11-05T18:32:23.002812Z"
    },
    "papermill": {
     "duration": 2.010561,
     "end_time": "2023-11-05T18:32:23.009510",
     "exception": false,
     "start_time": "2023-11-05T18:32:20.998949",
     "status": "completed"
    },
    "tags": []
   },
   "outputs": [
    {
     "data": {
      "text/plain": [
       "<Axes: xlabel='age_group', ylabel='likes_received'>"
      ]
     },
     "execution_count": 24,
     "metadata": {},
     "output_type": "execute_result"
    },
    {
     "data": {
      "image/png": "[encoded data removed]",
      "text/plain": [
       "<Figure size 1200x800 with 1 Axes>"
      ]
     },
     "metadata": {},
     "output_type": "display_data"
    }
   ],
   "source": [
    "# visualize likes_received for each gender in each age group\n",
    "plt.figure(figsize=(12, 8))\n",
    "sns.barplot(x='age_group', y='likes_received', data=facebook, hue='gender')"
   ]
  },
  {
   "cell_type": "code",
   "execution_count": 25,
   "id": "c710059a",
   "metadata": {
    "execution": {
     "iopub.execute_input": "2023-11-05T18:32:23.040945Z",
     "iopub.status.busy": "2023-11-05T18:32:23.039776Z",
     "iopub.status.idle": "2023-11-05T18:32:24.974340Z",
     "shell.execute_reply": "2023-11-05T18:32:24.972861Z"
    },
    "papermill": {
     "duration": 1.952719,
     "end_time": "2023-11-05T18:32:24.976408",
     "exception": false,
     "start_time": "2023-11-05T18:32:23.023689",
     "status": "completed"
    },
    "tags": []
   },
   "outputs": [
    {
     "data": {
      "text/plain": [
       "<Axes: xlabel='age_group', ylabel='likes'>"
      ]
     },
     "execution_count": 25,
     "metadata": {},
     "output_type": "execute_result"
    },
    {
     "data": {
      "image/png": "[encoded data removed]",
      "text/plain": [
       "<Figure size 1200x800 with 1 Axes>"
      ]
     },
     "metadata": {},
     "output_type": "display_data"
    }
   ],
   "source": [
    "# visualize likes for each gender in each age group\n",
    "plt.figure(figsize=(12, 8))\n",
    "sns.barplot(x='age_group', y='likes', data=facebook, hue='gender')"
   ]
  },
  {
   "cell_type": "code",
   "execution_count": 26,
   "id": "3ee33bef",
   "metadata": {
    "execution": {
     "iopub.execute_input": "2023-11-05T18:32:25.006592Z",
     "iopub.status.busy": "2023-11-05T18:32:25.005100Z",
     "iopub.status.idle": "2023-11-05T18:32:25.032673Z",
     "shell.execute_reply": "2023-11-05T18:32:25.031271Z"
    },
    "papermill": {
     "duration": 0.04574,
     "end_time": "2023-11-05T18:32:25.035688",
     "exception": false,
     "start_time": "2023-11-05T18:32:24.989948",
     "status": "completed"
    },
    "tags": []
   },
   "outputs": [
    {
     "data": {
      "text/html": [
       "<div>\n",
       "<style scoped>\n",
       "    .dataframe tbody tr th:only-of-type {\n",
       "        vertical-align: middle;\n",
       "    }\n",
       "\n",
       "    .dataframe tbody tr th {\n",
       "        vertical-align: top;\n",
       "    }\n",
       "\n",
       "    .dataframe thead th {\n",
       "        text-align: right;\n",
       "    }\n",
       "</style>\n",
       "<table border=\"1\" class=\"dataframe\">\n",
       "  <thead>\n",
       "    <tr style=\"text-align: right;\">\n",
       "      <th></th>\n",
       "      <th>userid</th>\n",
       "      <th>age</th>\n",
       "      <th>dob_day</th>\n",
       "      <th>dob_year</th>\n",
       "      <th>dob_month</th>\n",
       "      <th>gender</th>\n",
       "      <th>tenure</th>\n",
       "      <th>friend_count</th>\n",
       "      <th>friendships_initiated</th>\n",
       "      <th>likes</th>\n",
       "      <th>likes_received</th>\n",
       "      <th>mobile_likes</th>\n",
       "      <th>mobile_likes_received</th>\n",
       "      <th>www_likes</th>\n",
       "      <th>www_likes_received</th>\n",
       "      <th>age_group</th>\n",
       "    </tr>\n",
       "  </thead>\n",
       "  <tbody>\n",
       "    <tr>\n",
       "      <th>0</th>\n",
       "      <td>2094382</td>\n",
       "      <td>14</td>\n",
       "      <td>19</td>\n",
       "      <td>1999</td>\n",
       "      <td>11</td>\n",
       "      <td>male</td>\n",
       "      <td>266.0</td>\n",
       "      <td>0</td>\n",
       "      <td>0</td>\n",
       "      <td>0</td>\n",
       "      <td>0</td>\n",
       "      <td>0</td>\n",
       "      <td>0</td>\n",
       "      <td>0</td>\n",
       "      <td>0</td>\n",
       "      <td>10-20</td>\n",
       "    </tr>\n",
       "    <tr>\n",
       "      <th>1</th>\n",
       "      <td>1192601</td>\n",
       "      <td>14</td>\n",
       "      <td>2</td>\n",
       "      <td>1999</td>\n",
       "      <td>11</td>\n",
       "      <td>female</td>\n",
       "      <td>6.0</td>\n",
       "      <td>0</td>\n",
       "      <td>0</td>\n",
       "      <td>0</td>\n",
       "      <td>0</td>\n",
       "      <td>0</td>\n",
       "      <td>0</td>\n",
       "      <td>0</td>\n",
       "      <td>0</td>\n",
       "      <td>10-20</td>\n",
       "    </tr>\n",
       "    <tr>\n",
       "      <th>2</th>\n",
       "      <td>2083884</td>\n",
       "      <td>14</td>\n",
       "      <td>16</td>\n",
       "      <td>1999</td>\n",
       "      <td>11</td>\n",
       "      <td>male</td>\n",
       "      <td>13.0</td>\n",
       "      <td>0</td>\n",
       "      <td>0</td>\n",
       "      <td>0</td>\n",
       "      <td>0</td>\n",
       "      <td>0</td>\n",
       "      <td>0</td>\n",
       "      <td>0</td>\n",
       "      <td>0</td>\n",
       "      <td>10-20</td>\n",
       "    </tr>\n",
       "    <tr>\n",
       "      <th>3</th>\n",
       "      <td>1203168</td>\n",
       "      <td>14</td>\n",
       "      <td>25</td>\n",
       "      <td>1999</td>\n",
       "      <td>12</td>\n",
       "      <td>female</td>\n",
       "      <td>93.0</td>\n",
       "      <td>0</td>\n",
       "      <td>0</td>\n",
       "      <td>0</td>\n",
       "      <td>0</td>\n",
       "      <td>0</td>\n",
       "      <td>0</td>\n",
       "      <td>0</td>\n",
       "      <td>0</td>\n",
       "      <td>10-20</td>\n",
       "    </tr>\n",
       "    <tr>\n",
       "      <th>4</th>\n",
       "      <td>1733186</td>\n",
       "      <td>14</td>\n",
       "      <td>4</td>\n",
       "      <td>1999</td>\n",
       "      <td>12</td>\n",
       "      <td>male</td>\n",
       "      <td>82.0</td>\n",
       "      <td>0</td>\n",
       "      <td>0</td>\n",
       "      <td>0</td>\n",
       "      <td>0</td>\n",
       "      <td>0</td>\n",
       "      <td>0</td>\n",
       "      <td>0</td>\n",
       "      <td>0</td>\n",
       "      <td>10-20</td>\n",
       "    </tr>\n",
       "    <tr>\n",
       "      <th>...</th>\n",
       "      <td>...</td>\n",
       "      <td>...</td>\n",
       "      <td>...</td>\n",
       "      <td>...</td>\n",
       "      <td>...</td>\n",
       "      <td>...</td>\n",
       "      <td>...</td>\n",
       "      <td>...</td>\n",
       "      <td>...</td>\n",
       "      <td>...</td>\n",
       "      <td>...</td>\n",
       "      <td>...</td>\n",
       "      <td>...</td>\n",
       "      <td>...</td>\n",
       "      <td>...</td>\n",
       "      <td>...</td>\n",
       "    </tr>\n",
       "    <tr>\n",
       "      <th>98993</th>\n",
       "      <td>1654565</td>\n",
       "      <td>19</td>\n",
       "      <td>15</td>\n",
       "      <td>1994</td>\n",
       "      <td>8</td>\n",
       "      <td>male</td>\n",
       "      <td>394.0</td>\n",
       "      <td>4538</td>\n",
       "      <td>4144</td>\n",
       "      <td>4501</td>\n",
       "      <td>15088</td>\n",
       "      <td>4435</td>\n",
       "      <td>5961</td>\n",
       "      <td>66</td>\n",
       "      <td>9127</td>\n",
       "      <td>10-20</td>\n",
       "    </tr>\n",
       "    <tr>\n",
       "      <th>98994</th>\n",
       "      <td>2063006</td>\n",
       "      <td>20</td>\n",
       "      <td>4</td>\n",
       "      <td>1993</td>\n",
       "      <td>1</td>\n",
       "      <td>female</td>\n",
       "      <td>402.0</td>\n",
       "      <td>1988</td>\n",
       "      <td>332</td>\n",
       "      <td>7351</td>\n",
       "      <td>106025</td>\n",
       "      <td>7248</td>\n",
       "      <td>73333</td>\n",
       "      <td>103</td>\n",
       "      <td>32692</td>\n",
       "      <td>10-20</td>\n",
       "    </tr>\n",
       "    <tr>\n",
       "      <th>98995</th>\n",
       "      <td>1132164</td>\n",
       "      <td>20</td>\n",
       "      <td>9</td>\n",
       "      <td>1993</td>\n",
       "      <td>10</td>\n",
       "      <td>female</td>\n",
       "      <td>699.0</td>\n",
       "      <td>3611</td>\n",
       "      <td>973</td>\n",
       "      <td>4507</td>\n",
       "      <td>7768</td>\n",
       "      <td>4414</td>\n",
       "      <td>6909</td>\n",
       "      <td>93</td>\n",
       "      <td>859</td>\n",
       "      <td>10-20</td>\n",
       "    </tr>\n",
       "    <tr>\n",
       "      <th>98999</th>\n",
       "      <td>1256153</td>\n",
       "      <td>18</td>\n",
       "      <td>12</td>\n",
       "      <td>1995</td>\n",
       "      <td>3</td>\n",
       "      <td>female</td>\n",
       "      <td>21.0</td>\n",
       "      <td>1968</td>\n",
       "      <td>1720</td>\n",
       "      <td>4401</td>\n",
       "      <td>13412</td>\n",
       "      <td>4399</td>\n",
       "      <td>10592</td>\n",
       "      <td>2</td>\n",
       "      <td>2820</td>\n",
       "      <td>10-20</td>\n",
       "    </tr>\n",
       "    <tr>\n",
       "      <th>99000</th>\n",
       "      <td>1195943</td>\n",
       "      <td>15</td>\n",
       "      <td>10</td>\n",
       "      <td>1998</td>\n",
       "      <td>5</td>\n",
       "      <td>female</td>\n",
       "      <td>111.0</td>\n",
       "      <td>2002</td>\n",
       "      <td>1524</td>\n",
       "      <td>11959</td>\n",
       "      <td>12554</td>\n",
       "      <td>11959</td>\n",
       "      <td>11462</td>\n",
       "      <td>0</td>\n",
       "      <td>1092</td>\n",
       "      <td>10-20</td>\n",
       "    </tr>\n",
       "  </tbody>\n",
       "</table>\n",
       "<p>24747 rows × 16 columns</p>\n",
       "</div>"
      ],
      "text/plain": [
       "        userid  age  dob_day  dob_year  dob_month  gender  tenure  \\\n",
       "0      2094382   14       19      1999         11    male   266.0   \n",
       "1      1192601   14        2      1999         11  female     6.0   \n",
       "2      2083884   14       16      1999         11    male    13.0   \n",
       "3      1203168   14       25      1999         12  female    93.0   \n",
       "4      1733186   14        4      1999         12    male    82.0   \n",
       "...        ...  ...      ...       ...        ...     ...     ...   \n",
       "98993  1654565   19       15      1994          8    male   394.0   \n",
       "98994  2063006   20        4      1993          1  female   402.0   \n",
       "98995  1132164   20        9      1993         10  female   699.0   \n",
       "98999  1256153   18       12      1995          3  female    21.0   \n",
       "99000  1195943   15       10      1998          5  female   111.0   \n",
       "\n",
       "       friend_count  friendships_initiated  likes  likes_received  \\\n",
       "0                 0                      0      0               0   \n",
       "1                 0                      0      0               0   \n",
       "2                 0                      0      0               0   \n",
       "3                 0                      0      0               0   \n",
       "4                 0                      0      0               0   \n",
       "...             ...                    ...    ...             ...   \n",
       "98993          4538                   4144   4501           15088   \n",
       "98994          1988                    332   7351          106025   \n",
       "98995          3611                    973   4507            7768   \n",
       "98999          1968                   1720   4401           13412   \n",
       "99000          2002                   1524  11959           12554   \n",
       "\n",
       "       mobile_likes  mobile_likes_received  www_likes  www_likes_received  \\\n",
       "0                 0                      0          0                   0   \n",
       "1                 0                      0          0                   0   \n",
       "2                 0                      0          0                   0   \n",
       "3                 0                      0          0                   0   \n",
       "4                 0                      0          0                   0   \n",
       "...             ...                    ...        ...                 ...   \n",
       "98993          4435                   5961         66                9127   \n",
       "98994          7248                  73333        103               32692   \n",
       "98995          4414                   6909         93                 859   \n",
       "98999          4399                  10592          2                2820   \n",
       "99000         11959                  11462          0                1092   \n",
       "\n",
       "      age_group  \n",
       "0         10-20  \n",
       "1         10-20  \n",
       "2         10-20  \n",
       "3         10-20  \n",
       "4         10-20  \n",
       "...         ...  \n",
       "98993     10-20  \n",
       "98994     10-20  \n",
       "98995     10-20  \n",
       "98999     10-20  \n",
       "99000     10-20  \n",
       "\n",
       "[24747 rows x 16 columns]"
      ]
     },
     "execution_count": 26,
     "metadata": {},
     "output_type": "execute_result"
    }
   ],
   "source": [
    "df_10s = facebook[ (facebook['age'] > 10) & (facebook['age'] <= 20) ]\n",
    "df_10s"
   ]
  },
  {
   "cell_type": "code",
   "execution_count": 27,
   "id": "9b12288c",
   "metadata": {
    "execution": {
     "iopub.execute_input": "2023-11-05T18:32:25.153795Z",
     "iopub.status.busy": "2023-11-05T18:32:25.153346Z",
     "iopub.status.idle": "2023-11-05T18:32:25.369364Z",
     "shell.execute_reply": "2023-11-05T18:32:25.368428Z"
    },
    "papermill": {
     "duration": 0.233611,
     "end_time": "2023-11-05T18:32:25.371484",
     "exception": false,
     "start_time": "2023-11-05T18:32:25.137873",
     "status": "completed"
    },
    "tags": []
   },
   "outputs": [
    {
     "data": {
      "text/plain": [
       "<Axes: xlabel='count', ylabel='age'>"
      ]
     },
     "execution_count": 27,
     "metadata": {},
     "output_type": "execute_result"
    },
    {
     "data": {
      "image/png": "[encoded data removed]",
      "text/plain": [
       "<Figure size 1200x800 with 1 Axes>"
      ]
     },
     "metadata": {},
     "output_type": "display_data"
    }
   ],
   "source": [
    "# visualize frequency of each age from 11 to 20\n",
    "plt.figure(figsize=(12, 8))\n",
    "sns.countplot(y='age', data=df_10s)"
   ]
  },
  {
   "cell_type": "code",
   "execution_count": 28,
   "id": "42f840e1",
   "metadata": {
    "execution": {
     "iopub.execute_input": "2023-11-05T18:32:25.402921Z",
     "iopub.status.busy": "2023-11-05T18:32:25.401417Z",
     "iopub.status.idle": "2023-11-05T18:32:26.477424Z",
     "shell.execute_reply": "2023-11-05T18:32:26.476016Z"
    },
    "papermill": {
     "duration": 1.094463,
     "end_time": "2023-11-05T18:32:26.480289",
     "exception": false,
     "start_time": "2023-11-05T18:32:25.385826",
     "status": "completed"
    },
    "tags": []
   },
   "outputs": [
    {
     "data": {
      "text/plain": [
       "<Axes: xlabel='age', ylabel='likes'>"
      ]
     },
     "execution_count": 28,
     "metadata": {},
     "output_type": "execute_result"
    },
    {
     "data": {
      "image/png": "[encoded data removed]",
      "text/plain": [
       "<Figure size 1200x800 with 1 Axes>"
      ]
     },
     "metadata": {},
     "output_type": "display_data"
    }
   ],
   "source": [
    "# visualize likes for each gender in this group (11-20)\n",
    "plt.figure(figsize=(12, 8))\n",
    "sns.barplot(x='age', y='likes', data=df_10s, hue='gender')"
   ]
  },
  {
   "cell_type": "code",
   "execution_count": 29,
   "id": "121a0a20",
   "metadata": {
    "execution": {
     "iopub.execute_input": "2023-11-05T18:32:26.515108Z",
     "iopub.status.busy": "2023-11-05T18:32:26.514332Z",
     "iopub.status.idle": "2023-11-05T18:32:27.428409Z",
     "shell.execute_reply": "2023-11-05T18:32:27.427409Z"
    },
    "papermill": {
     "duration": 0.934058,
     "end_time": "2023-11-05T18:32:27.430493",
     "exception": false,
     "start_time": "2023-11-05T18:32:26.496435",
     "status": "completed"
    },
    "tags": []
   },
   "outputs": [
    {
     "data": {
      "text/plain": [
       "<Axes: xlabel='age', ylabel='likes_received'>"
      ]
     },
     "execution_count": 29,
     "metadata": {},
     "output_type": "execute_result"
    },
    {
     "data": {
      "image/png": "[encoded data removed]",
      "text/plain": [
       "<Figure size 1200x800 with 1 Axes>"
      ]
     },
     "metadata": {},
     "output_type": "display_data"
    }
   ],
   "source": [
    "# visualize likes_recieved for each gender in this group (11-20)\n",
    "plt.figure(figsize=(12, 8))\n",
    "sns.barplot(x='age', y='likes_received', data=df_10s, hue='gender')"
   ]
  }
 ],
 "metadata": {
  "kernelspec": {
   "display_name": "Python 3",
   "language": "python",
   "name": "python3"
  },
  "language_info": {
   "codemirror_mode": {
    "name": "ipython",
    "version": 3
   },
   "file_extension": ".py",
   "mimetype": "text/x-python",
   "name": "python",
   "nbconvert_exporter": "python",
   "pygments_lexer": "ipython3",
   "version": "3.10.12"
  },
  "papermill": {
   "default_parameters": {},
   "duration": 15.649164,
   "end_time": "2023-11-05T18:32:28.271538",
   "environment_variables": {},
   "exception": null,
   "input_path": "__notebook__.ipynb",
   "output_path": "__notebook__.ipynb",
   "parameters": {},
   "start_time": "2023-11-05T18:32:12.622374",
   "version": "2.4.0"
  }
 },
 "nbformat": 4,
 "nbformat_minor": 5
}
